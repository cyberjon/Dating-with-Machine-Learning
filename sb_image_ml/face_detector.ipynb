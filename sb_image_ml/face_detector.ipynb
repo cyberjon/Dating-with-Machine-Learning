{
 "cells": [
  {
   "cell_type": "code",
   "execution_count": 8,
   "metadata": {},
   "outputs": [],
   "source": [
    "#face detect using mtcnn\n",
    "from matplotlib import pyplot\n",
    "from PIL import Image\n",
    "from numpy import asarray\n",
    "from mtcnn.mtcnn import MTCNN\n",
    "import pandas as pd"
   ]
  },
  {
   "cell_type": "code",
   "execution_count": 9,
   "metadata": {},
   "outputs": [],
   "source": [
    "# extract a single face from a given photograph\n",
    "def extract_face(filename, required_size=(224, 224)):\n",
    "    \n",
    "    # load image from file\n",
    "    pic = pyplot.imread(filename)\n",
    "    # create the detector, using default weights\n",
    "    detector = MTCNN()\n",
    "    # detect faces in the image\n",
    "    results = detector.detect_faces(pic)\n",
    "\n",
    "    #SARAH ADDED TO SEE\n",
    "    print(results)\n",
    "    # extract the bounding box from the first face\n",
    "    x1, y1, width, height = results[0]['box']\n",
    "    x2, y2 = x1 + width, y1 + height\n",
    "    # extract the face\n",
    "    face = pic[y1:y2, x1:x2]\n",
    "    # resize pixels to the model size\n",
    "    image = Image.fromarray(face)\n",
    "    image = image.resize(required_size)\n",
    "    face_array = asarray(image)\n",
    "    return face_array"
   ]
  },
  {
   "cell_type": "code",
   "execution_count": 32,
   "metadata": {},
   "outputs": [
    {
     "name": "stdout",
     "output_type": "stream",
     "text": [
      "[{'box': [167, 104, 32, 37], 'confidence': 0.9998979568481445, 'keypoints': {'left_eye': (176, 116), 'right_eye': (192, 115), 'nose': (184, 124), 'mouth_left': (177, 131), 'mouth_right': (191, 131)}}]\n"
     ]
    },
    {
     "data": {
      "text/plain": [
       "<matplotlib.image.AxesImage at 0x276b910dba8>"
      ]
     },
     "execution_count": 32,
     "metadata": {},
     "output_type": "execute_result"
    },
    {
     "data": {
      "image/png": "[encoded data removed]",
      "text/plain": [
       "<Figure size 432x288 with 1 Axes>"
      ]
     },
     "metadata": {
      "needs_background": "light"
     },
     "output_type": "display_data"
    }
   ],
   "source": [
    "#load pic\n",
    "pic = extract_face('face_3.jpg')\n",
    "p = pyplot.imread('face_3.jpg')\n",
    "pyplot.imshow(pic)\n",
    "# pyplot.imshow(p)"
   ]
  },
  {
   "cell_type": "code",
   "execution_count": null,
   "metadata": {},
   "outputs": [],
   "source": []
  },
  {
   "cell_type": "code",
   "execution_count": 11,
   "metadata": {},
   "outputs": [
    {
     "data": {
      "text/html": [
       "<div>\n",
       "<style scoped>\n",
       "    .dataframe tbody tr th:only-of-type {\n",
       "        vertical-align: middle;\n",
       "    }\n",
       "\n",
       "    .dataframe tbody tr th {\n",
       "        vertical-align: top;\n",
       "    }\n",
       "\n",
       "    .dataframe thead th {\n",
       "        text-align: right;\n",
       "    }\n",
       "</style>\n",
       "<table border=\"1\" class=\"dataframe\">\n",
       "  <thead>\n",
       "    <tr style=\"text-align: right;\">\n",
       "      <th></th>\n",
       "      <th>image</th>\n",
       "    </tr>\n",
       "  </thead>\n",
       "  <tbody>\n",
       "    <tr>\n",
       "      <th>0</th>\n",
       "      <td>face_2.jpg</td>\n",
       "    </tr>\n",
       "    <tr>\n",
       "      <th>1</th>\n",
       "      <td>face_3.jpg</td>\n",
       "    </tr>\n",
       "    <tr>\n",
       "      <th>2</th>\n",
       "      <td>face_5.jpg</td>\n",
       "    </tr>\n",
       "    <tr>\n",
       "      <th>3</th>\n",
       "      <td>face_7.jpg</td>\n",
       "    </tr>\n",
       "    <tr>\n",
       "      <th>4</th>\n",
       "      <td>face_9.jpg</td>\n",
       "    </tr>\n",
       "  </tbody>\n",
       "</table>\n",
       "</div>"
      ],
      "text/plain": [
       "        image\n",
       "0  face_2.jpg\n",
       "1  face_3.jpg\n",
       "2  face_5.jpg\n",
       "3  face_7.jpg\n",
       "4  face_9.jpg"
      ]
     },
     "execution_count": 11,
     "metadata": {},
     "output_type": "execute_result"
    }
   ],
   "source": [
    "#load filenames via pandas\n",
    "pic_list = pd.read_csv('test/pof_test_faces.csv')\n",
    "pic_list.head()"
   ]
  },
  {
   "cell_type": "code",
   "execution_count": 28,
   "metadata": {},
   "outputs": [],
   "source": [
    "# base func extract face\n",
    "box_list = {}\n",
    "def detect_face(filename, required_size=(224, 224)):\n",
    "    #EMPTY SET TO SAVE RESULTS\n",
    "\n",
    "    # load image from file\n",
    "    pic = pyplot.imread(filename)\n",
    "    \n",
    "    # create the detector, using default weights\n",
    "    detector = MTCNN()\n",
    "    \n",
    "    # detect faces in the image\n",
    "    results = detector.detect_faces(pic)\n",
    "    \n",
    "    #APPEND box_list(comparing arrays to see if difference in box)\n",
    "    box_list.update({filename:results[0]['box']})\n",
    "    \n",
    "    # extract the bounding box from the first face\n",
    "    x1, y1, width, height = results[0]['box']\n",
    "    x2, y2 = x1 + width, y1 + height\n",
    "    \n",
    "    # extract the face\n",
    "    face = pic[y1:y2, x1:x2]\n",
    "    \n",
    "    # resize pixels to the model size\n",
    "    image = Image.fromarray(face)\n",
    "    image = image.resize(required_size)\n",
    "    face_array = asarray(image)\n",
    "    return face_array"
   ]
  },
  {
   "cell_type": "code",
   "execution_count": 35,
   "metadata": {
    "scrolled": true
   },
   "outputs": [],
   "source": [
    "#create a loop to extract faces from all photos\n",
    "\n",
    "for x in range(len(pic_list)):\n",
    "    \n",
    "    try:\n",
    "        p = pic_list['image'][x]\n",
    "        detect_face(f'test/profile_photos/{p}')\n",
    "    \n",
    "    except Exception as e:\n",
    "        box_list.update({f'test/profile_photos/{p}':[0,0,0,0]})\n",
    "\n",
    "\n",
    "\n",
    "# p = detect_face('face_3.jpg')\n",
    "# pyplot.imshow(p)\n"
   ]
  },
  {
   "cell_type": "code",
   "execution_count": 37,
   "metadata": {},
   "outputs": [
    {
     "data": {
      "text/plain": [
       "{'test/profile_photos/face_2.jpg': [121, 104, 112, 143],\n",
       " 'test/profile_photos/face_3.jpg': [167, 104, 32, 37],\n",
       " 'test/profile_photos/face_5.jpg': [197, 205, 67, 87],\n",
       " 'test/profile_photos/face_7.jpg': [108, 172, 92, 120],\n",
       " 'test/profile_photos/face_9.jpg': [64, 27, 142, 154],\n",
       " 'test/profile_photos/no_face_1.jpg': [318, 78, 19, 24],\n",
       " 'test/profile_photos/no_face_4.jpg': [0, 0, 0, 0],\n",
       " 'test/profile_photos/no_face_6.jpg': [0, 0, 0, 0],\n",
       " 'test/profile_photos/no_face_8.jpg': [0, 0, 0, 0],\n",
       " 'test/profile_photos/no_face_10.jpg': [0, 0, 0, 0]}"
      ]
     },
     "execution_count": 37,
     "metadata": {},
     "output_type": "execute_result"
    }
   ],
   "source": [
    "box_list"
   ]
  },
  {
   "cell_type": "code",
   "execution_count": 40,
   "metadata": {},
   "outputs": [
    {
     "data": {
      "text/html": [
       "<div>\n",
       "<style scoped>\n",
       "    .dataframe tbody tr th:only-of-type {\n",
       "        vertical-align: middle;\n",
       "    }\n",
       "\n",
       "    .dataframe tbody tr th {\n",
       "        vertical-align: top;\n",
       "    }\n",
       "\n",
       "    .dataframe thead th {\n",
       "        text-align: right;\n",
       "    }\n",
       "</style>\n",
       "<table border=\"1\" class=\"dataframe\">\n",
       "  <thead>\n",
       "    <tr style=\"text-align: right;\">\n",
       "      <th></th>\n",
       "      <th>image</th>\n",
       "      <th>label</th>\n",
       "    </tr>\n",
       "  </thead>\n",
       "  <tbody>\n",
       "    <tr>\n",
       "      <th>0</th>\n",
       "      <td>face_1.jpg</td>\n",
       "      <td>face</td>\n",
       "    </tr>\n",
       "    <tr>\n",
       "      <th>1</th>\n",
       "      <td>face_4.jpg</td>\n",
       "      <td>face</td>\n",
       "    </tr>\n",
       "    <tr>\n",
       "      <th>2</th>\n",
       "      <td>face_6.jpg</td>\n",
       "      <td>face</td>\n",
       "    </tr>\n",
       "    <tr>\n",
       "      <th>3</th>\n",
       "      <td>face_7.jpg</td>\n",
       "      <td>face</td>\n",
       "    </tr>\n",
       "    <tr>\n",
       "      <th>4</th>\n",
       "      <td>face_8.jpg</td>\n",
       "      <td>face</td>\n",
       "    </tr>\n",
       "  </tbody>\n",
       "</table>\n",
       "</div>"
      ],
      "text/plain": [
       "        image label\n",
       "0  face_1.jpg  face\n",
       "1  face_4.jpg  face\n",
       "2  face_6.jpg  face\n",
       "3  face_7.jpg  face\n",
       "4  face_8.jpg  face"
      ]
     },
     "execution_count": 40,
     "metadata": {},
     "output_type": "execute_result"
    }
   ],
   "source": [
    "#checking training data\n",
    "train_data = pd.read_csv('train/pof_train_faces.csv')\n",
    "train_data.head()"
   ]
  },
  {
   "cell_type": "code",
   "execution_count": 41,
   "metadata": {},
   "outputs": [],
   "source": [
    "#create loop through file names\n",
    "for x in range(len(train_data)):\n",
    "    \n",
    "    try:\n",
    "        p = train_data['image'][x]\n",
    "        detect_face(f'test/profile_photos/{p}')\n",
    "    \n",
    "    except Exception as e:\n",
    "        box_list.update({f'test/profile_photos/{p}':[0,0,0,0]})"
   ]
  },
  {
   "cell_type": "code",
   "execution_count": 42,
   "metadata": {},
   "outputs": [
    {
     "data": {
      "text/plain": [
       "{'test/profile_photos/face_2.jpg': [121, 104, 112, 143],\n",
       " 'test/profile_photos/face_3.jpg': [167, 104, 32, 37],\n",
       " 'test/profile_photos/face_5.jpg': [197, 205, 67, 87],\n",
       " 'test/profile_photos/face_7.jpg': [108, 172, 92, 120],\n",
       " 'test/profile_photos/face_9.jpg': [64, 27, 142, 154],\n",
       " 'test/profile_photos/no_face_1.jpg': [318, 78, 19, 24],\n",
       " 'test/profile_photos/no_face_4.jpg': [0, 0, 0, 0],\n",
       " 'test/profile_photos/no_face_6.jpg': [0, 0, 0, 0],\n",
       " 'test/profile_photos/no_face_8.jpg': [0, 0, 0, 0],\n",
       " 'test/profile_photos/no_face_10.jpg': [0, 0, 0, 0],\n",
       " 'test/profile_photos/face_1.jpg': [0, 0, 0, 0],\n",
       " 'test/profile_photos/face_4.jpg': [0, 0, 0, 0],\n",
       " 'test/profile_photos/face_6.jpg': [0, 0, 0, 0],\n",
       " 'test/profile_photos/face_8.jpg': [0, 0, 0, 0],\n",
       " 'test/profile_photos/face_13.jpg': [0, 0, 0, 0],\n",
       " 'test/profile_photos/face_14.jpg': [0, 0, 0, 0],\n",
       " 'test/profile_photos/face_16.jpg': [0, 0, 0, 0],\n",
       " 'test/profile_photos/face_17.jpg': [0, 0, 0, 0],\n",
       " 'test/profile_photos/face_20.jpg': [0, 0, 0, 0],\n",
       " 'test/profile_photos/no_face_2.jpg': [0, 0, 0, 0],\n",
       " 'test/profile_photos/no_face_3.jpg': [0, 0, 0, 0],\n",
       " 'test/profile_photos/no_face_5.jpg': [0, 0, 0, 0],\n",
       " 'test/profile_photos/no_face_9.jpg': [0, 0, 0, 0],\n",
       " 'test/profile_photos/no_face_11.jpg': [0, 0, 0, 0],\n",
       " 'test/profile_photos/no_face_12.jpg': [0, 0, 0, 0],\n",
       " 'test/profile_photos/no_face_15.jpg': [0, 0, 0, 0],\n",
       " 'test/profile_photos/no_face_18.jpg': [0, 0, 0, 0],\n",
       " 'test/profile_photos/no_face_19.jpg': [0, 0, 0, 0]}"
      ]
     },
     "execution_count": 42,
     "metadata": {},
     "output_type": "execute_result"
    }
   ],
   "source": [
    "box_list"
   ]
  },
  {
   "cell_type": "code",
   "execution_count": null,
   "metadata": {},
   "outputs": [],
   "source": []
  }
 ],
 "metadata": {
  "kernelspec": {
   "display_name": "Python 3",
   "language": "python",
   "name": "python3"
  },
  "language_info": {
   "codemirror_mode": {
    "name": "ipython",
    "version": 3
   },
   "file_extension": ".py",
   "mimetype": "text/x-python",
   "name": "python",
   "nbconvert_exporter": "python",
   "pygments_lexer": "ipython3",
   "version": "3.7.3"
  }
 },
 "nbformat": 4,
 "nbformat_minor": 2
}
