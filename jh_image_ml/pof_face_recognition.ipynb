{
 "cells": [
  {
   "cell_type": "code",
   "execution_count": 38,
   "metadata": {},
   "outputs": [],
   "source": [
    "import keras\n",
    "\n",
    "import numpy as np\n",
    "import pandas as pd\n",
    "import os\n",
    "\n",
    "import matplotlib.pyplot as plt\n",
    "%matplotlib inline\n",
    "\n",
    "from sklearn.model_selection import train_test_split\n",
    "from keras.utils import to_categorical\n",
    "\n",
    "import tensorflow as tf\n",
    "from tensorflow.keras.preprocessing import image\n",
    "from tensorflow.keras.applications.xception import (\n",
    "    Xception, preprocess_input, decode_predictions)\n"
   ]
  },
  {
   "cell_type": "code",
   "execution_count": 39,
   "metadata": {},
   "outputs": [
    {
     "data": {
      "text/html": [
       "<div>\n",
       "<style scoped>\n",
       "    .dataframe tbody tr th:only-of-type {\n",
       "        vertical-align: middle;\n",
       "    }\n",
       "\n",
       "    .dataframe tbody tr th {\n",
       "        vertical-align: top;\n",
       "    }\n",
       "\n",
       "    .dataframe thead th {\n",
       "        text-align: right;\n",
       "    }\n",
       "</style>\n",
       "<table border=\"1\" class=\"dataframe\">\n",
       "  <thead>\n",
       "    <tr style=\"text-align: right;\">\n",
       "      <th></th>\n",
       "      <th>image</th>\n",
       "      <th>label</th>\n",
       "    </tr>\n",
       "  </thead>\n",
       "  <tbody>\n",
       "    <tr>\n",
       "      <th>0</th>\n",
       "      <td>face_1.jpg</td>\n",
       "      <td>face</td>\n",
       "    </tr>\n",
       "    <tr>\n",
       "      <th>1</th>\n",
       "      <td>face_4.jpg</td>\n",
       "      <td>face</td>\n",
       "    </tr>\n",
       "    <tr>\n",
       "      <th>2</th>\n",
       "      <td>face_6.jpg</td>\n",
       "      <td>face</td>\n",
       "    </tr>\n",
       "    <tr>\n",
       "      <th>3</th>\n",
       "      <td>face_7.jpg</td>\n",
       "      <td>face</td>\n",
       "    </tr>\n",
       "    <tr>\n",
       "      <th>4</th>\n",
       "      <td>face_8.jpg</td>\n",
       "      <td>face</td>\n",
       "    </tr>\n",
       "  </tbody>\n",
       "</table>\n",
       "</div>"
      ],
      "text/plain": [
       "        image label\n",
       "0  face_1.jpg  face\n",
       "1  face_4.jpg  face\n",
       "2  face_6.jpg  face\n",
       "3  face_7.jpg  face\n",
       "4  face_8.jpg  face"
      ]
     },
     "execution_count": 39,
     "metadata": {},
     "output_type": "execute_result"
    }
   ],
   "source": [
    "train = pd.read_csv(\"train/pof_train_faces.csv\")\n",
    "train.head()"
   ]
  },
  {
   "cell_type": "code",
   "execution_count": 40,
   "metadata": {},
   "outputs": [],
   "source": [
    "target = train[\"label\"]\n",
    "target_names = [\"face\", \"no_face\"]"
   ]
  },
  {
   "cell_type": "code",
   "execution_count": 41,
   "metadata": {},
   "outputs": [
    {
     "data": {
      "text/html": [
       "<div>\n",
       "<style scoped>\n",
       "    .dataframe tbody tr th:only-of-type {\n",
       "        vertical-align: middle;\n",
       "    }\n",
       "\n",
       "    .dataframe tbody tr th {\n",
       "        vertical-align: top;\n",
       "    }\n",
       "\n",
       "    .dataframe thead th {\n",
       "        text-align: right;\n",
       "    }\n",
       "</style>\n",
       "<table border=\"1\" class=\"dataframe\">\n",
       "  <thead>\n",
       "    <tr style=\"text-align: right;\">\n",
       "      <th></th>\n",
       "      <th>image</th>\n",
       "    </tr>\n",
       "  </thead>\n",
       "  <tbody>\n",
       "    <tr>\n",
       "      <th>0</th>\n",
       "      <td>face_1.jpg</td>\n",
       "    </tr>\n",
       "    <tr>\n",
       "      <th>1</th>\n",
       "      <td>face_4.jpg</td>\n",
       "    </tr>\n",
       "    <tr>\n",
       "      <th>2</th>\n",
       "      <td>face_6.jpg</td>\n",
       "    </tr>\n",
       "    <tr>\n",
       "      <th>3</th>\n",
       "      <td>face_7.jpg</td>\n",
       "    </tr>\n",
       "    <tr>\n",
       "      <th>4</th>\n",
       "      <td>face_8.jpg</td>\n",
       "    </tr>\n",
       "  </tbody>\n",
       "</table>\n",
       "</div>"
      ],
      "text/plain": [
       "        image\n",
       "0  face_1.jpg\n",
       "1  face_4.jpg\n",
       "2  face_6.jpg\n",
       "3  face_7.jpg\n",
       "4  face_8.jpg"
      ]
     },
     "execution_count": 41,
     "metadata": {},
     "output_type": "execute_result"
    }
   ],
   "source": [
    "train_data = train.drop(\"label\", axis=1)\n",
    "train_data.head()"
   ]
  },
  {
   "cell_type": "code",
   "execution_count": 42,
   "metadata": {},
   "outputs": [],
   "source": [
    "model = Xception(include_top = True, weights = 'imagenet')"
   ]
  },
  {
   "cell_type": "code",
   "execution_count": 43,
   "metadata": {},
   "outputs": [],
   "source": [
    "img_size = (299, 299)"
   ]
  },
  {
   "cell_type": "code",
   "execution_count": 55,
   "metadata": {},
   "outputs": [],
   "source": [
    "train_images = []\n",
    "for i in range(len(train_data)):\n",
    "    img_name = train_data.iloc[i][0]\n",
    "    img_path = os.path.join(\"train\", \"profile_photos\", img_name)\n",
    "    img = image.load_img(img_path, grayscale = False, color_mode = 'rgb', target_size = img_size)\n",
    "    \n",
    "    arr_img = image.img_to_array(img)\n",
    "    arr_img = np.expand_dims(arr_img, axis = 0)\n",
    "    arr_img = preprocess_input(arr_img)\n",
    "    train_images.append(arr_img)"
   ]
  },
  {
   "cell_type": "code",
   "execution_count": 52,
   "metadata": {},
   "outputs": [],
   "source": [
    "#train_images"
   ]
  },
  {
   "cell_type": "code",
   "execution_count": 57,
   "metadata": {},
   "outputs": [
    {
     "name": "stdout",
     "output_type": "stream",
     "text": [
      "[[('n04162706', 'seat_belt', 0.99595284), ('n03670208', 'limousine', 0.0015906023), ('n03770679', 'minivan', 0.0010121467), ('n02965783', 'car_mirror', 0.000120174016), ('n03769881', 'minibus', 0.0001053923)]]\n",
      "[[('n02992529', 'cellular_telephone', 0.1410985), ('n03642806', 'laptop', 0.09319622), ('n03832673', 'notebook', 0.06696141), ('n02977058', 'cash_machine', 0.059268843), ('n04404412', 'television', 0.04300129)]]\n",
      "[[('n03272010', 'electric_guitar', 0.3698034), ('n02676566', 'acoustic_guitar', 0.112698674), ('n03929660', 'pick', 0.050419796), ('n04296562', 'stage', 0.049068093), ('n02787622', 'banjo', 0.028311605)]]\n",
      "[[('n02948072', 'candle', 0.1590831), ('n04081281', 'restaurant', 0.085711055), ('n04443257', 'tobacco_shop', 0.056137316), ('n07565083', 'menu', 0.028749827), ('n03661043', 'library', 0.028171152)]]\n",
      "[[('n02777292', 'balance_beam', 0.116465725), ('n02790996', 'barbell', 0.07468763), ('n03255030', 'dumbbell', 0.07022275), ('n03970156', 'plunger', 0.042828206), ('n03535780', 'horizontal_bar', 0.04057332)]]\n",
      "[[('n03804744', 'nail', 0.088027015), ('n03481172', 'hammer', 0.07458362), ('n04376876', 'syringe', 0.05670309), ('n04154565', 'screwdriver', 0.028257407), ('n02804610', 'bassoon', 0.021637736)]]\n",
      "[[('n03924679', 'photocopier', 0.15088715), ('n04554684', 'washer', 0.09913282), ('n03207941', 'dishwasher', 0.029820148), ('n03832673', 'notebook', 0.025275758), ('n03796401', 'moving_van', 0.023653025)]]\n",
      "[[('n04162706', 'seat_belt', 0.38256958), ('n04259630', 'sombrero', 0.027064985), ('n04584207', 'wig', 0.016506933), ('n03670208', 'limousine', 0.015798533), ('n03045698', 'cloak', 0.012918257)]]\n",
      "[[('n04507155', 'umbrella', 0.77291393), ('n03404251', 'fur_coat', 0.028445087), ('n02279972', 'monarch', 0.027407378), ('n04136333', 'sarong', 0.018740326), ('n03888257', 'parachute', 0.009916865)]]\n",
      "[[('n04370456', 'sweatshirt', 0.22041894), ('n03595614', 'jersey', 0.20411468), ('n04584207', 'wig', 0.14695549), ('n03710637', 'maillot', 0.043876402), ('n03476991', 'hair_spray', 0.028347991)]]\n",
      "[[('n03595614', 'jersey', 0.09196719), ('n04584207', 'wig', 0.08334029), ('n02093991', 'Irish_terrier', 0.05384388), ('n03710637', 'maillot', 0.026632722), ('n03483316', 'hand_blower', 0.02238686)]]\n",
      "[[('n03347037', 'fire_screen', 0.22088961), ('n04418357', 'theater_curtain', 0.04792718), ('n04429376', 'throne', 0.046813846), ('n03388549', 'four-poster', 0.04113543), ('n04550184', 'wardrobe', 0.027959393)]]\n",
      "[[('n03770679', 'minivan', 0.35324267), ('n03877472', 'pajama', 0.024041526), ('n04162706', 'seat_belt', 0.023317585), ('n04208210', 'shovel', 0.022489108), ('n03891332', 'parking_meter', 0.014260623)]]\n",
      "[[('n06596364', 'comic_book', 0.21858637), ('n03598930', 'jigsaw_puzzle', 0.0477846), ('n09256479', 'coral_reef', 0.043964032), ('n01930112', 'nematode', 0.020737799), ('n03595614', 'jersey', 0.019740857)]]\n",
      "[[('n02951358', 'canoe', 0.4708607), ('n03873416', 'paddle', 0.24128927), ('n09332890', 'lakeside', 0.022263795), ('n04483307', 'trimaran', 0.019896971), ('n04273569', 'speedboat', 0.016870517)]]\n",
      "[[('n09229709', 'bubble', 0.21502566), ('n04286575', 'spotlight', 0.058476485), ('n03388043', 'fountain', 0.052931402), ('n04589890', 'window_screen', 0.03082457), ('n04296562', 'stage', 0.025274444)]]\n",
      "[[('n10565667', 'scuba_diver', 0.10405067), ('n04606251', 'wreck', 0.06136745), ('n02492660', 'howler_monkey', 0.02792199), ('n03594945', 'jeep', 0.01758093), ('n02481823', 'chimpanzee', 0.01384963)]]\n",
      "[[('n07717556', 'butternut_squash', 0.6617158), ('n04579145', 'whiskey_jug', 0.05721124), ('n02786058', 'Band_Aid', 0.035943925), ('n04522168', 'vase', 0.029695692), ('n03690938', 'lotion', 0.01875793)]]\n",
      "[[('n04371430', 'swimming_trunks', 0.43425164), ('n02837789', 'bikini', 0.20554805), ('n03710637', 'maillot', 0.042424336), ('n04540053', 'volleyball', 0.021239538), ('n02807133', 'bathing_cap', 0.017625758)]]\n",
      "[[('n04584207', 'wig', 0.46426278), ('n03676483', 'lipstick', 0.09518902), ('n04162706', 'seat_belt', 0.07222759), ('n04356056', 'sunglasses', 0.03216483), ('n03124170', 'cowboy_hat', 0.017831735)]]\n"
     ]
    }
   ],
   "source": [
    "for img in train_images:\n",
    "    predictions = model.predict(img)\n",
    "    print (decode_predictions(predictions))"
   ]
  },
  {
   "cell_type": "code",
   "execution_count": null,
   "metadata": {},
   "outputs": [],
   "source": []
  },
  {
   "cell_type": "code",
   "execution_count": null,
   "metadata": {},
   "outputs": [],
   "source": []
  }
 ],
 "metadata": {
  "kernelspec": {
   "display_name": "Python 3",
   "language": "python",
   "name": "python3"
  },
  "language_info": {
   "codemirror_mode": {
    "name": "ipython",
    "version": 3
   },
   "file_extension": ".py",
   "mimetype": "text/x-python",
   "name": "python",
   "nbconvert_exporter": "python",
   "pygments_lexer": "ipython3",
   "version": "3.7.3"
  }
 },
 "nbformat": 4,
 "nbformat_minor": 2
}
