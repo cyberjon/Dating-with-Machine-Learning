{
 "cells": [
  {
   "cell_type": "code",
   "execution_count": 1,
   "metadata": {},
   "outputs": [
    {
     "name": "stderr",
     "output_type": "stream",
     "text": [
      "Using TensorFlow backend.\n"
     ]
    }
   ],
   "source": [
    "import keras\n",
    "\n",
    "import numpy as np\n",
    "import pandas as pd\n",
    "import os\n",
    "\n",
    "import matplotlib.pyplot as plt\n",
    "%matplotlib inline\n",
    "\n",
    "from sklearn.model_selection import train_test_split\n",
    "from keras.utils import to_categorical\n",
    "\n",
    "import tensorflow as tf\n",
    "from tensorflow.keras.preprocessing import image\n",
    "from tensorflow.keras.applications.xception import (\n",
    "    Xception, preprocess_input, decode_predictions)\n"
   ]
  },
  {
   "cell_type": "code",
   "execution_count": 2,
   "metadata": {},
   "outputs": [
    {
     "data": {
      "text/html": [
       "<div>\n",
       "<style scoped>\n",
       "    .dataframe tbody tr th:only-of-type {\n",
       "        vertical-align: middle;\n",
       "    }\n",
       "\n",
       "    .dataframe tbody tr th {\n",
       "        vertical-align: top;\n",
       "    }\n",
       "\n",
       "    .dataframe thead th {\n",
       "        text-align: right;\n",
       "    }\n",
       "</style>\n",
       "<table border=\"1\" class=\"dataframe\">\n",
       "  <thead>\n",
       "    <tr style=\"text-align: right;\">\n",
       "      <th></th>\n",
       "      <th>image</th>\n",
       "      <th>label</th>\n",
       "    </tr>\n",
       "  </thead>\n",
       "  <tbody>\n",
       "    <tr>\n",
       "      <th>0</th>\n",
       "      <td>face_1.jpg</td>\n",
       "      <td>face</td>\n",
       "    </tr>\n",
       "    <tr>\n",
       "      <th>1</th>\n",
       "      <td>face_4.jpg</td>\n",
       "      <td>face</td>\n",
       "    </tr>\n",
       "    <tr>\n",
       "      <th>2</th>\n",
       "      <td>face_6.jpg</td>\n",
       "      <td>face</td>\n",
       "    </tr>\n",
       "    <tr>\n",
       "      <th>3</th>\n",
       "      <td>face_7.jpg</td>\n",
       "      <td>face</td>\n",
       "    </tr>\n",
       "    <tr>\n",
       "      <th>4</th>\n",
       "      <td>face_8.jpg</td>\n",
       "      <td>face</td>\n",
       "    </tr>\n",
       "  </tbody>\n",
       "</table>\n",
       "</div>"
      ],
      "text/plain": [
       "        image label\n",
       "0  face_1.jpg  face\n",
       "1  face_4.jpg  face\n",
       "2  face_6.jpg  face\n",
       "3  face_7.jpg  face\n",
       "4  face_8.jpg  face"
      ]
     },
     "execution_count": 2,
     "metadata": {},
     "output_type": "execute_result"
    }
   ],
   "source": [
    "train = pd.read_csv(\"train/pof_train_faces.csv\")\n",
    "train.head()"
   ]
  },
  {
   "cell_type": "code",
   "execution_count": 3,
   "metadata": {},
   "outputs": [],
   "source": [
    "target = train[\"label\"]\n",
    "target_names = [\"face\", \"no_face\"]"
   ]
  },
  {
   "cell_type": "code",
   "execution_count": 4,
   "metadata": {},
   "outputs": [
    {
     "data": {
      "text/html": [
       "<div>\n",
       "<style scoped>\n",
       "    .dataframe tbody tr th:only-of-type {\n",
       "        vertical-align: middle;\n",
       "    }\n",
       "\n",
       "    .dataframe tbody tr th {\n",
       "        vertical-align: top;\n",
       "    }\n",
       "\n",
       "    .dataframe thead th {\n",
       "        text-align: right;\n",
       "    }\n",
       "</style>\n",
       "<table border=\"1\" class=\"dataframe\">\n",
       "  <thead>\n",
       "    <tr style=\"text-align: right;\">\n",
       "      <th></th>\n",
       "      <th>image</th>\n",
       "    </tr>\n",
       "  </thead>\n",
       "  <tbody>\n",
       "    <tr>\n",
       "      <th>0</th>\n",
       "      <td>face_1.jpg</td>\n",
       "    </tr>\n",
       "    <tr>\n",
       "      <th>1</th>\n",
       "      <td>face_4.jpg</td>\n",
       "    </tr>\n",
       "    <tr>\n",
       "      <th>2</th>\n",
       "      <td>face_6.jpg</td>\n",
       "    </tr>\n",
       "    <tr>\n",
       "      <th>3</th>\n",
       "      <td>face_7.jpg</td>\n",
       "    </tr>\n",
       "    <tr>\n",
       "      <th>4</th>\n",
       "      <td>face_8.jpg</td>\n",
       "    </tr>\n",
       "  </tbody>\n",
       "</table>\n",
       "</div>"
      ],
      "text/plain": [
       "        image\n",
       "0  face_1.jpg\n",
       "1  face_4.jpg\n",
       "2  face_6.jpg\n",
       "3  face_7.jpg\n",
       "4  face_8.jpg"
      ]
     },
     "execution_count": 4,
     "metadata": {},
     "output_type": "execute_result"
    }
   ],
   "source": [
    "train_data = train.drop(\"label\", axis=1)\n",
    "train_data.head()"
   ]
  },
  {
   "cell_type": "code",
   "execution_count": 5,
   "metadata": {},
   "outputs": [
    {
     "name": "stdout",
     "output_type": "stream",
     "text": [
      "WARNING:tensorflow:From C:\\Users\\Serruh\\AppData\\Local\\Continuum\\anaconda3\\lib\\site-packages\\tensorflow\\python\\ops\\resource_variable_ops.py:435: colocate_with (from tensorflow.python.framework.ops) is deprecated and will be removed in a future version.\n",
      "Instructions for updating:\n",
      "Colocations handled automatically by placer.\n"
     ]
    }
   ],
   "source": [
    "model = Xception(include_top = True, weights = 'imagenet')"
   ]
  },
  {
   "cell_type": "code",
   "execution_count": 6,
   "metadata": {},
   "outputs": [],
   "source": [
    "img_size = (299, 299)"
   ]
  },
  {
   "cell_type": "code",
   "execution_count": 7,
   "metadata": {},
   "outputs": [],
   "source": [
    "train_images = []\n",
    "for i in range(len(train_data)):\n",
    "    img_name = train_data.iloc[i][0]\n",
    "    img_path = os.path.join(\"train\", \"profile_photos\", img_name)\n",
    "    img = image.load_img(img_path, grayscale = False, color_mode = 'rgb', target_size = img_size)\n",
    "    \n",
    "    arr_img = image.img_to_array(img)\n",
    "    arr_img = np.expand_dims(arr_img, axis = 0)\n",
    "    arr_img = preprocess_input(arr_img)\n",
    "    train_images.append(arr_img)"
   ]
  },
  {
   "cell_type": "code",
   "execution_count": 8,
   "metadata": {},
   "outputs": [],
   "source": [
    "#train_images"
   ]
  },
  {
   "cell_type": "code",
   "execution_count": 9,
   "metadata": {},
   "outputs": [
    {
     "name": "stdout",
     "output_type": "stream",
     "text": [
      "[[('n04162706', 'seat_belt', 0.99595284), ('n03670208', 'limousine', 0.0015906062), ('n03770679', 'minivan', 0.0010121482), ('n02965783', 'car_mirror', 0.00012017413), ('n03769881', 'minibus', 0.00010539199)]]\n",
      "[[('n02992529', 'cellular_telephone', 0.14109904), ('n03642806', 'laptop', 0.093196526), ('n03832673', 'notebook', 0.06696141), ('n02977058', 'cash_machine', 0.05926862), ('n04404412', 'television', 0.043001227)]]\n",
      "[[('n03272010', 'electric_guitar', 0.36980322), ('n02676566', 'acoustic_guitar', 0.11269867), ('n03929660', 'pick', 0.050419893), ('n04296562', 'stage', 0.049068164), ('n02787622', 'banjo', 0.028311644)]]\n",
      "[[('n02948072', 'candle', 0.15908302), ('n04081281', 'restaurant', 0.0857108), ('n04443257', 'tobacco_shop', 0.05613742), ('n07565083', 'menu', 0.028749788), ('n03661043', 'library', 0.028171206)]]\n",
      "[[('n02777292', 'balance_beam', 0.116465665), ('n02790996', 'barbell', 0.07468763), ('n03255030', 'dumbbell', 0.07022275), ('n03970156', 'plunger', 0.042828206), ('n03535780', 'horizontal_bar', 0.040573206)]]\n",
      "[[('n03804744', 'nail', 0.088027194), ('n03481172', 'hammer', 0.07458374), ('n04376876', 'syringe', 0.056703128), ('n04154565', 'screwdriver', 0.028257452), ('n02804610', 'bassoon', 0.021637697)]]\n",
      "[[('n03924679', 'photocopier', 0.1508875), ('n04554684', 'washer', 0.099132866), ('n03207941', 'dishwasher', 0.029820148), ('n03832673', 'notebook', 0.025275722), ('n03796401', 'moving_van', 0.023653002)]]\n",
      "[[('n04162706', 'seat_belt', 0.38256946), ('n04259630', 'sombrero', 0.027065016), ('n04584207', 'wig', 0.016506925), ('n03670208', 'limousine', 0.015798545), ('n03045698', 'cloak', 0.01291826)]]\n",
      "[[('n04507155', 'umbrella', 0.7729142), ('n03404251', 'fur_coat', 0.028445123), ('n02279972', 'monarch', 0.027407309), ('n04136333', 'sarong', 0.018740304), ('n03888257', 'parachute', 0.00991683)]]\n",
      "[[('n04370456', 'sweatshirt', 0.22042052), ('n03595614', 'jersey', 0.20411555), ('n04584207', 'wig', 0.14695515), ('n03710637', 'maillot', 0.043875944), ('n03476991', 'hair_spray', 0.028347965)]]\n",
      "[[('n03595614', 'jersey', 0.091967225), ('n04584207', 'wig', 0.08333997), ('n02093991', 'Irish_terrier', 0.053843975), ('n03710637', 'maillot', 0.026632734), ('n03483316', 'hand_blower', 0.02238688)]]\n",
      "[[('n03347037', 'fire_screen', 0.22088876), ('n04418357', 'theater_curtain', 0.047927428), ('n04429376', 'throne', 0.046814024), ('n03388549', 'four-poster', 0.041135684), ('n04550184', 'wardrobe', 0.027959421)]]\n",
      "[[('n03770679', 'minivan', 0.35324344), ('n03877472', 'pajama', 0.024041511), ('n04162706', 'seat_belt', 0.023317501), ('n04208210', 'shovel', 0.022489103), ('n03891332', 'parking_meter', 0.014260607)]]\n",
      "[[('n06596364', 'comic_book', 0.21858612), ('n03598930', 'jigsaw_puzzle', 0.04778446), ('n09256479', 'coral_reef', 0.043964192), ('n01930112', 'nematode', 0.020737834), ('n03595614', 'jersey', 0.019740911)]]\n",
      "[[('n02951358', 'canoe', 0.47086173), ('n03873416', 'paddle', 0.24128877), ('n09332890', 'lakeside', 0.02226374), ('n04483307', 'trimaran', 0.01989694), ('n04273569', 'speedboat', 0.016870482)]]\n",
      "[[('n09229709', 'bubble', 0.21502584), ('n04286575', 'spotlight', 0.058476344), ('n03388043', 'fountain', 0.0529315), ('n04589890', 'window_screen', 0.030824596), ('n04296562', 'stage', 0.025274526)]]\n",
      "[[('n10565667', 'scuba_diver', 0.1040508), ('n04606251', 'wreck', 0.061367407), ('n02492660', 'howler_monkey', 0.027921183), ('n03594945', 'jeep', 0.01758085), ('n02481823', 'chimpanzee', 0.013849576)]]\n",
      "[[('n07717556', 'butternut_squash', 0.6617158), ('n04579145', 'whiskey_jug', 0.057211295), ('n02786058', 'Band_Aid', 0.035943925), ('n04522168', 'vase', 0.029695692), ('n03690938', 'lotion', 0.018757984)]]\n",
      "[[('n04371430', 'swimming_trunks', 0.43425235), ('n02837789', 'bikini', 0.2055474), ('n03710637', 'maillot', 0.042424288), ('n04540053', 'volleyball', 0.02123955), ('n02807133', 'bathing_cap', 0.017625796)]]\n",
      "[[('n04584207', 'wig', 0.46426252), ('n03676483', 'lipstick', 0.09518937), ('n04162706', 'seat_belt', 0.07222741), ('n04356056', 'sunglasses', 0.03216475), ('n03124170', 'cowboy_hat', 0.017831769)]]\n"
     ]
    }
   ],
   "source": [
    "for img in train_images:\n",
    "    predictions = model.predict(img)\n",
    "    print (decode_predictions(predictions))"
   ]
  },
  {
   "cell_type": "code",
   "execution_count": null,
   "metadata": {},
   "outputs": [],
   "source": []
  },
  {
   "cell_type": "code",
   "execution_count": null,
   "metadata": {},
   "outputs": [],
   "source": []
  }
 ],
 "metadata": {
  "kernelspec": {
   "display_name": "Python 3",
   "language": "python",
   "name": "python3"
  },
  "language_info": {
   "codemirror_mode": {
    "name": "ipython",
    "version": 3
   },
   "file_extension": ".py",
   "mimetype": "text/x-python",
   "name": "python",
   "nbconvert_exporter": "python",
   "pygments_lexer": "ipython3",
   "version": "3.7.3"
  }
 },
 "nbformat": 4,
 "nbformat_minor": 2
}
