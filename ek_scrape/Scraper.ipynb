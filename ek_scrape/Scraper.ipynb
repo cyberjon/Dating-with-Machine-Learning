{
 "cells": [
  {
   "cell_type": "markdown",
   "metadata": {},
   "source": [
    "### 1) import dependencies"
   ]
  },
  {
   "cell_type": "code",
   "execution_count": 1,
   "metadata": {},
   "outputs": [],
   "source": [
    "# import libraries\n",
    "from bs4 import BeautifulSoup as bs\n",
    "from lxml import html\n",
    "from splinter import Browser"
   ]
  },
  {
   "cell_type": "code",
   "execution_count": 2,
   "metadata": {},
   "outputs": [],
   "source": [
    "# custom code\n",
    "from config import strUsername\n",
    "from config import strPassword\n",
    "import lib.GetProfileURLs\n",
    "import lib.ScrapeProfile"
   ]
  },
  {
   "cell_type": "markdown",
   "metadata": {},
   "source": [
    "### 2) define functions"
   ]
  },
  {
   "cell_type": "code",
   "execution_count": 3,
   "metadata": {},
   "outputs": [],
   "source": [
    "# define function: initialize browser\n",
    "def Initialize():\n",
    "    dictPath = {\"executable_path\": \"chromedriver.exe\"}\n",
    "    return Browser(\"chrome\", **dictPath, headless=False)"
   ]
  },
  {
   "cell_type": "code",
   "execution_count": 4,
   "metadata": {},
   "outputs": [],
   "source": [
    "def Login(browser):\n",
    "    browser.visit(strURLLogin)\n",
    "    browser.fill(\"username\", strUsername) \n",
    "    browser.fill(\"password\", strPassword)\n",
    "    browser.click_link_by_id(\"logincontrol_submitbutton\")\n",
    "    return browser"
   ]
  },
  {
   "cell_type": "markdown",
   "metadata": {},
   "source": [
    "### 3) initialize URLs, variables, and browser object"
   ]
  },
  {
   "cell_type": "code",
   "execution_count": 5,
   "metadata": {},
   "outputs": [],
   "source": [
    "# define pages\n",
    "strURLLogin = 'https://www.pof.com/login.aspx'\n",
    "strURLMyCity = 'https://www.pof.com/lastonlinemycity.aspx'\n",
    "strURLOnline = 'https://www.pof.com/basicsearch.aspx'\n",
    "\n",
    "# define initial vars\n",
    "lstURLProfile = []"
   ]
  },
  {
   "cell_type": "code",
   "execution_count": 6,
   "metadata": {},
   "outputs": [],
   "source": [
    "# initialize browser and visit login page\n",
    "browser = Initialize()"
   ]
  },
  {
   "cell_type": "code",
   "execution_count": 7,
   "metadata": {},
   "outputs": [],
   "source": [
    "# log in\n",
    "browser = Login(browser)"
   ]
  },
  {
   "cell_type": "markdown",
   "metadata": {},
   "source": [
    "# <font color=red>4) choose parameters</font>"
   ]
  },
  {
   "cell_type": "code",
   "execution_count": 8,
   "metadata": {},
   "outputs": [],
   "source": [
    "# choose max number of profiles to scrape\n",
    "intProfileLimit = 1000\n",
    "# choose site section to scrape. current valid arguments: \"strURLMyCity\" OR \"strURLOnline\"\n",
    "strPOFSection = strURLMyCity"
   ]
  },
  {
   "cell_type": "markdown",
   "metadata": {},
   "source": [
    "### 5) grab profile URLs -- either from \"My City\" or \"Online\""
   ]
  },
  {
   "cell_type": "code",
   "execution_count": 9,
   "metadata": {},
   "outputs": [
    {
     "name": "stdout",
     "output_type": "stream",
     "text": [
      "1 profile urls found\n",
      "2 profile urls found\n",
      "3 profile urls found\n",
      "4 profile urls found\n",
      "5 profile urls found\n",
      "6 profile urls found\n",
      "7 profile urls found\n",
      "8 profile urls found\n",
      "9 profile urls found\n",
      "10 profile urls found\n",
      "11 profile urls found\n",
      "12 profile urls found\n",
      "13 profile urls found\n",
      "14 profile urls found\n",
      "15 profile urls found\n",
      "16 profile urls found\n",
      "17 profile urls found\n",
      "18 profile urls found\n",
      "19 profile urls found\n",
      "20 profile urls found\n",
      "21 profile urls found\n",
      "22 profile urls found\n",
      "23 profile urls found\n",
      "24 profile urls found\n",
      "25 profile urls found\n",
      "26 profile urls found\n",
      "27 profile urls found\n",
      "28 profile urls found\n",
      "29 profile urls found\n",
      "30 profile urls found\n",
      "31 profile urls found\n",
      "32 profile urls found\n",
      "33 profile urls found\n",
      "34 profile urls found\n",
      "35 profile urls found\n",
      "36 profile urls found\n",
      "37 profile urls found\n",
      "38 profile urls found\n",
      "39 profile urls found\n",
      "40 profile urls found\n",
      "41 profile urls found\n",
      "42 profile urls found\n",
      "43 profile urls found\n",
      "44 profile urls found\n",
      "45 profile urls found\n",
      "46 profile urls found\n",
      "47 profile urls found\n",
      "48 profile urls found\n",
      "49 profile urls found\n",
      "50 profile urls found\n",
      "51 profile urls found\n",
      "52 profile urls found\n"
     ]
    }
   ],
   "source": [
    "# current valid arguments for first parameter: strURLMyCity OR strURLOnline \n",
    "lstURLProfile = lib.GetProfileURLs.Go(browser, strPOFSection, intProfileLimit)"
   ]
  },
  {
   "cell_type": "markdown",
   "metadata": {},
   "source": [
    "### 6) scrape profile URLs"
   ]
  },
  {
   "cell_type": "code",
   "execution_count": 10,
   "metadata": {},
   "outputs": [],
   "source": [
    "# initialize variables for scraping profiles\n",
    "dictProfile = {}\n",
    "intProfile = 0"
   ]
  },
  {
   "cell_type": "code",
   "execution_count": 11,
   "metadata": {},
   "outputs": [
    {
     "name": "stdout",
     "output_type": "stream",
     "text": [
      "No interests were entered\n",
      "profile 1 of 52 scraped\n",
      "profile 2 of 52 scraped\n",
      "profile 3 of 52 scraped\n",
      "profile 4 of 52 scraped\n",
      "profile 5 of 52 scraped\n",
      "No interests were entered\n",
      "profile 6 of 52 scraped\n",
      "No interests were entered\n",
      "profile 7 of 52 scraped\n",
      "No interests were entered\n",
      "profile 8 of 52 scraped\n",
      "No interests were entered\n",
      "profile 9 of 52 scraped\n",
      "profile 10 of 52 scraped\n",
      "profile 11 of 52 scraped\n",
      "No interests were entered\n",
      "profile 12 of 52 scraped\n",
      "No interests were entered\n",
      "profile 13 of 52 scraped\n",
      "No interests were entered\n",
      "profile 14 of 52 scraped\n",
      "No interests were entered\n",
      "profile 15 of 52 scraped\n",
      "profile 16 of 52 scraped\n",
      "profile 17 of 52 scraped\n",
      "profile 18 of 52 scraped\n",
      "profile 19 of 52 scraped\n",
      "profile 20 of 52 scraped\n",
      "No interests were entered\n",
      "profile 21 of 52 scraped\n",
      "No interests were entered\n",
      "profile 22 of 52 scraped\n",
      "No interests were entered\n",
      "profile 23 of 52 scraped\n",
      "No interests were entered\n",
      "profile 24 of 52 scraped\n",
      "profile 25 of 52 scraped\n",
      "No interests were entered\n",
      "profile 26 of 52 scraped\n",
      "No interests were entered\n",
      "profile 27 of 52 scraped\n",
      "profile 28 of 52 scraped\n",
      "No interests were entered\n",
      "profile 29 of 52 scraped\n",
      "profile 30 of 52 scraped\n",
      "No interests were entered\n",
      "profile 31 of 52 scraped\n",
      "No interests were entered\n",
      "profile 32 of 52 scraped\n",
      "profile 33 of 52 scraped\n",
      "No interests were entered\n",
      "profile 34 of 52 scraped\n",
      "No interests were entered\n",
      "profile 35 of 52 scraped\n",
      "profile 36 of 52 scraped\n",
      "profile 37 of 52 scraped\n",
      "profile 38 of 52 scraped\n",
      "No interests were entered\n",
      "profile 39 of 52 scraped\n",
      "No interests were entered\n",
      "profile 40 of 52 scraped\n",
      "No interests were entered\n",
      "profile 41 of 52 scraped\n",
      "No interests were entered\n",
      "profile 42 of 52 scraped\n",
      "No interests were entered\n",
      "profile 43 of 52 scraped\n",
      "No interests were entered\n",
      "profile 44 of 52 scraped\n",
      "No interests were entered\n",
      "profile 45 of 52 scraped\n",
      "profile 46 of 52 scraped\n",
      "No interests were entered\n",
      "profile 47 of 52 scraped\n",
      "No interests were entered\n",
      "profile 48 of 52 scraped\n",
      "No interests were entered\n",
      "profile 49 of 52 scraped\n",
      "No interests were entered\n",
      "profile 50 of 52 scraped\n",
      "profile 51 of 52 scraped\n",
      "No interests were entered\n",
      "profile 52 of 52 scraped\n"
     ]
    }
   ],
   "source": [
    "# compute total number of profiles\n",
    "intCount = len(lstURLProfile)\n",
    "# iterate through and scrape each profile page\n",
    "for strURL in lstURLProfile:\n",
    "    browser.visit(strURL)\n",
    "    # instantiate soup object\n",
    "    html = browser.html\n",
    "    soup = bs(html, 'html.parser')\n",
    "    # call ScrapeProfile library and add to dictProfile\n",
    "    strMatch = 'match_' + str(intProfile)\n",
    "    dictProfile[strMatch] = lib.ScrapeProfile.Go(soup, browser, strUsername, strPOFSection)\n",
    "    intProfile += 1\n",
    "    print(f'profile {intProfile} of {intCount} scraped')"
   ]
  },
  {
   "cell_type": "code",
   "execution_count": 12,
   "metadata": {},
   "outputs": [],
   "source": [
    "# write output txt\n",
    "strPath = lib.ScrapeProfile.GetPath(strUsername, strPOFSection)\n",
    "f = open(f'{strPath}/pof_output.txt', 'w')\n",
    "f.write(str(str(dictProfile).encode(\"utf-8\")))\n",
    "f.close()"
   ]
  }
 ],
 "metadata": {
  "kernelspec": {
   "display_name": "Python 3",
   "language": "python",
   "name": "python3"
  },
  "language_info": {
   "codemirror_mode": {
    "name": "ipython",
    "version": 3
   },
   "file_extension": ".py",
   "mimetype": "text/x-python",
   "name": "python",
   "nbconvert_exporter": "python",
   "pygments_lexer": "ipython3",
   "version": "3.7.3"
  }
 },
 "nbformat": 4,
 "nbformat_minor": 2
}
