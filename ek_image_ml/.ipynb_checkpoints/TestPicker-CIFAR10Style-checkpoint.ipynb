{
 "cells": [
  {
   "cell_type": "markdown",
   "metadata": {},
   "source": [
    "### build 2D CNN (modified pattern from https://keras.io/examples/cifar10_cnn)"
   ]
  },
  {
   "cell_type": "code",
   "execution_count": 1,
   "metadata": {},
   "outputs": [],
   "source": [
    "# import general dependencies\n",
    "from matplotlib import pyplot\n",
    "import numpy as np\n",
    "import os\n",
    "import pandas as pd"
   ]
  },
  {
   "cell_type": "code",
   "execution_count": 2,
   "metadata": {},
   "outputs": [
    {
     "name": "stderr",
     "output_type": "stream",
     "text": [
      "Using TensorFlow backend.\n"
     ]
    }
   ],
   "source": [
    "# import ML dependencies\n",
    "from __future__ import print_function\n",
    "from sklearn.model_selection import train_test_split\n",
    "import keras\n",
    "from keras.preprocessing.image import ImageDataGenerator\n",
    "from keras.models import Sequential\n",
    "from keras.layers import Dense, Dropout, Activation, Flatten\n",
    "from keras.layers import Conv2D, MaxPooling2D\n",
    "from tensorflow.keras.preprocessing import image"
   ]
  },
  {
   "cell_type": "code",
   "execution_count": 3,
   "metadata": {},
   "outputs": [],
   "source": [
    "# define model vars\n",
    "intBatchSize = 110\n",
    "intClassCount = 1\n",
    "intEpochCount = 5 # originally 100\n",
    "fDataAug = True\n",
    "intPredictionCount = 1\n",
    "strPath = '.'\n",
    "strModel = 'CIFAR10Style_doctordata_MyCity.h5'"
   ]
  },
  {
   "cell_type": "code",
   "execution_count": 4,
   "metadata": {},
   "outputs": [
    {
     "data": {
      "text/plain": [
       "(226, 110, 110, 3)"
      ]
     },
     "execution_count": 4,
     "metadata": {},
     "output_type": "execute_result"
    }
   ],
   "source": [
    "# create X data set\n",
    "strImgPath = '../ek_scrape/img/doctordata/MyCity'\n",
    "lstImg = []\n",
    "for root, dirs, lstFile in os.walk(strImgPath):\n",
    "    for strFile in lstFile:\n",
    "        if strFile[-4:] == '.png':\n",
    "            img = pyplot.imread(strImgPath + '/' + strFile, format='jpg')\n",
    "            arrImg = image.img_to_array(img)\n",
    "            lstImg.append(arrImg)\n",
    "arrX = np.array(lstImg)\n",
    "arrX.shape"
   ]
  },
  {
   "cell_type": "code",
   "execution_count": 5,
   "metadata": {},
   "outputs": [
    {
     "data": {
      "text/plain": [
       "(226,)"
      ]
     },
     "execution_count": 5,
     "metadata": {},
     "output_type": "execute_result"
    }
   ],
   "source": [
    "# create Y data set\n",
    "dfY = pd.read_csv('doctordata_MyCity.csv')\n",
    "arrY = np.array(dfY['interested'])\n",
    "arrY.shape\n",
    "arrY.ndim\n",
    "arrY.shape"
   ]
  },
  {
   "cell_type": "code",
   "execution_count": 6,
   "metadata": {},
   "outputs": [],
   "source": [
    "# create Train and Test datasets\n",
    "arrTrainX, arrTestX, arrTrainY, arrTestY = train_test_split(arrX, arrY, random_state=17) # , stratify=arrY"
   ]
  },
  {
   "cell_type": "code",
   "execution_count": 7,
   "metadata": {},
   "outputs": [
    {
     "name": "stdout",
     "output_type": "stream",
     "text": [
      "WARNING:tensorflow:From C:\\Anaconda3\\lib\\site-packages\\tensorflow\\python\\ops\\resource_variable_ops.py:435: colocate_with (from tensorflow.python.framework.ops) is deprecated and will be removed in a future version.\n",
      "Instructions for updating:\n",
      "Colocations handled automatically by placer.\n"
     ]
    }
   ],
   "source": [
    "# create model\n",
    "model = Sequential()\n",
    "model.add(Conv2D(32, (3, 3), padding='same',\n",
    "                 input_shape=arrTrainX.shape[1:]))\n",
    "model.add(Activation('relu'))\n",
    "model.add(Conv2D(32, (3, 3)))\n",
    "model.add(Activation('relu'))\n",
    "model.add(MaxPooling2D(pool_size=(2, 2)))\n",
    "model.add(Dropout(0.25))\n",
    "\n",
    "model.add(Conv2D(64, (3, 3), padding='same'))\n",
    "model.add(Activation('relu'))\n",
    "model.add(Conv2D(64, (3, 3)))\n",
    "model.add(Activation('relu'))\n",
    "model.add(MaxPooling2D(pool_size=(2, 2)))\n",
    "model.add(Dropout(0.25))\n",
    "\n",
    "model.add(Flatten())\n",
    "model.add(Dense(512))\n",
    "model.add(Activation('relu'))\n",
    "model.add(Dropout(0.5))\n",
    "model.add(Dense(intClassCount))\n",
    "model.add(Activation('sigmoid'))"
   ]
  },
  {
   "cell_type": "code",
   "execution_count": 8,
   "metadata": {},
   "outputs": [],
   "source": [
    "# initiate RMSprop optimizer\n",
    "opt = keras.optimizers.RMSprop(learning_rate=0.0001, decay=1e-6)"
   ]
  },
  {
   "cell_type": "code",
   "execution_count": 9,
   "metadata": {},
   "outputs": [],
   "source": [
    "# train the model using RMSprop\n",
    "model.compile(loss='binary_crossentropy',\n",
    "              optimizer=opt,\n",
    "              metrics=['accuracy'])"
   ]
  },
  {
   "cell_type": "code",
   "execution_count": 10,
   "metadata": {},
   "outputs": [],
   "source": [
    "# rescale X's Train and Test datasets\n",
    "arrTrainX = arrTrainX.astype('float32')\n",
    "arrTestX = arrTestX.astype('float32')\n",
    "arrTrainX /= 255\n",
    "arrTestX /= 255"
   ]
  },
  {
   "cell_type": "code",
   "execution_count": 11,
   "metadata": {},
   "outputs": [
    {
     "name": "stdout",
     "output_type": "stream",
     "text": [
      "Using real-time data augmentation.\n"
     ]
    }
   ],
   "source": [
    "if not fDataAug:\n",
    "    print('Not using data augmentation.')\n",
    "    model.fit(arrTrainX, arrTrainY,\n",
    "              batch_size=intBatchSize,\n",
    "              epochs=intEpochCount,\n",
    "              validation_data=(arrTestX, arrTestY),\n",
    "              shuffle=True)\n",
    "else:\n",
    "    print('Using real-time data augmentation.')\n",
    "    # This will do preprocessing and realtime data augmentation:\n",
    "    datagen = ImageDataGenerator(\n",
    "        featurewise_center=False,  # set input mean to 0 over the dataset\n",
    "        samplewise_center=False,  # set each sample mean to 0\n",
    "        featurewise_std_normalization=False,  # divide inputs by std of the dataset\n",
    "        samplewise_std_normalization=False,  # divide each input by its std\n",
    "        zca_whitening=False,  # apply ZCA whitening\n",
    "        zca_epsilon=1e-06,  # epsilon for ZCA whitening\n",
    "        rotation_range=0,  # randomly rotate images in the range (degrees, 0 to 180)\n",
    "        # randomly shift images horizontally (fraction of total width)\n",
    "        width_shift_range=0.1,\n",
    "        # randomly shift images vertically (fraction of total height)\n",
    "        height_shift_range=0.1,\n",
    "        shear_range=0.,  # set range for random shear\n",
    "        zoom_range=0.,  # set range for random zoom\n",
    "        channel_shift_range=0.,  # set range for random channel shifts\n",
    "        # set mode for filling points outside the input boundaries\n",
    "        fill_mode='nearest',\n",
    "        cval=0.,  # value used for fill_mode = \"constant\"\n",
    "        horizontal_flip=True,  # randomly flip images\n",
    "        vertical_flip=False,  # randomly flip images\n",
    "        # set rescaling factor (applied before any other transformation)\n",
    "        rescale=None,\n",
    "        # set function that will be applied on each input\n",
    "        preprocessing_function=None,\n",
    "        # image data format, either \"channels_first\" or \"channels_last\"\n",
    "        data_format=None,\n",
    "        # fraction of images reserved for validation (strictly between 0 and 1)\n",
    "        validation_split=0.0)"
   ]
  },
  {
   "cell_type": "code",
   "execution_count": 12,
   "metadata": {},
   "outputs": [],
   "source": [
    "# compute quantities required for feature-wise normalization\n",
    "# (std, mean, and principal components if ZCA whitening is applied).\n",
    "datagen.fit(arrTrainX)"
   ]
  },
  {
   "cell_type": "code",
   "execution_count": 13,
   "metadata": {},
   "outputs": [
    {
     "name": "stdout",
     "output_type": "stream",
     "text": [
      "WARNING:tensorflow:From C:\\Anaconda3\\lib\\site-packages\\tensorflow\\python\\ops\\math_ops.py:3066: to_int32 (from tensorflow.python.ops.math_ops) is deprecated and will be removed in a future version.\n",
      "Instructions for updating:\n",
      "Use tf.cast instead.\n",
      "WARNING:tensorflow:From C:\\Anaconda3\\lib\\site-packages\\tensorflow\\python\\ops\\math_grad.py:102: div (from tensorflow.python.ops.math_ops) is deprecated and will be removed in a future version.\n",
      "Instructions for updating:\n",
      "Deprecated in favor of operator or tf.math.divide.\n",
      "Epoch 1/10\n",
      "2/2 [==============================] - 6s 3s/step - loss: 1.7132 - accuracy: 0.1479 - val_loss: 1.6842 - val_accuracy: 0.1579\n",
      "Epoch 2/10\n",
      "2/2 [==============================] - 6s 3s/step - loss: 1.7132 - accuracy: 0.1479 - val_loss: 1.6842 - val_accuracy: 0.1579\n",
      "Epoch 3/10\n",
      "2/2 [==============================] - 6s 3s/step - loss: 1.6870 - accuracy: 0.1479 - val_loss: 1.6842 - val_accuracy: 0.1579\n",
      "Epoch 4/10\n",
      "2/2 [==============================] - 6s 3s/step - loss: 1.7132 - accuracy: 0.1479 - val_loss: 1.6842 - val_accuracy: 0.1579\n",
      "Epoch 5/10\n",
      "2/2 [==============================] - 5s 3s/step - loss: 1.7184 - accuracy: 0.1479 - val_loss: 1.6842 - val_accuracy: 0.1579\n",
      "Epoch 6/10\n",
      "2/2 [==============================] - 6s 3s/step - loss: 1.6975 - accuracy: 0.1479 - val_loss: 1.6842 - val_accuracy: 0.1579\n",
      "Epoch 7/10\n",
      "2/2 [==============================] - 5s 3s/step - loss: 1.7080 - accuracy: 0.1479 - val_loss: 1.6842 - val_accuracy: 0.1579\n",
      "Epoch 8/10\n",
      "2/2 [==============================] - 6s 3s/step - loss: 1.7080 - accuracy: 0.1479 - val_loss: 1.6842 - val_accuracy: 0.1579\n",
      "Epoch 9/10\n",
      "2/2 [==============================] - 6s 3s/step - loss: 1.6870 - accuracy: 0.1479 - val_loss: 1.6842 - val_accuracy: 0.1579\n",
      "Epoch 10/10\n",
      "2/2 [==============================] - 6s 3s/step - loss: 1.6975 - accuracy: 0.1479 - val_loss: 1.6842 - val_accuracy: 0.1579\n"
     ]
    },
    {
     "data": {
      "text/plain": [
       "<keras.callbacks.callbacks.History at 0x1aa9a2a7668>"
      ]
     },
     "execution_count": 13,
     "metadata": {},
     "output_type": "execute_result"
    }
   ],
   "source": [
    "# Fit the model on the batches generated by datagen.flow().\n",
    "model.fit_generator(datagen.flow(arrTrainX, arrTrainY,\n",
    "                                 batch_size=intBatchSize),\n",
    "                    epochs=intEpochCount,\n",
    "                    validation_data=(arrTestX, arrTestY),\n",
    "                    workers=4)"
   ]
  },
  {
   "cell_type": "code",
   "execution_count": 14,
   "metadata": {},
   "outputs": [
    {
     "name": "stdout",
     "output_type": "stream",
     "text": [
      "Saved trained model at .\\CIFAR10Style_doctordata_MyCity.h5 \n"
     ]
    }
   ],
   "source": [
    "# save model and weights\n",
    "if not os.path.isdir(strPath):\n",
    "    os.makedirs(strPath)\n",
    "strModelPath = os.path.join(strPath, strModel)\n",
    "model.save(strModelPath)\n",
    "print('Saved trained model at %s ' % strModelPath)"
   ]
  },
  {
   "cell_type": "code",
   "execution_count": 15,
   "metadata": {},
   "outputs": [
    {
     "name": "stdout",
     "output_type": "stream",
     "text": [
      "57/57 [==============================] - 1s 10ms/step\n",
      "Test loss: 1.6842105409555268\n",
      "Test accuracy: 0.15789473056793213\n"
     ]
    }
   ],
   "source": [
    "# score trained model\n",
    "arrScores = model.evaluate(arrTestX, arrTestY, verbose=1)\n",
    "print('Test loss:', arrScores[0])\n",
    "print('Test accuracy:', arrScores[1])"
   ]
  }
 ],
 "metadata": {
  "anaconda-cloud": {},
  "kernelspec": {
   "display_name": "Python 3",
   "language": "python",
   "name": "python3"
  },
  "language_info": {
   "codemirror_mode": {
    "name": "ipython",
    "version": 3
   },
   "file_extension": ".py",
   "mimetype": "text/x-python",
   "name": "python",
   "nbconvert_exporter": "python",
   "pygments_lexer": "ipython3",
   "version": "3.7.3"
  },
  "varInspector": {
   "cols": {
    "lenName": 16,
    "lenType": 16,
    "lenVar": 40
   },
   "kernels_config": {
    "python": {
     "delete_cmd_postfix": "",
     "delete_cmd_prefix": "del ",
     "library": "var_list.py",
     "varRefreshCmd": "print(var_dic_list())"
    },
    "r": {
     "delete_cmd_postfix": ") ",
     "delete_cmd_prefix": "rm(",
     "library": "var_list.r",
     "varRefreshCmd": "cat(var_dic_list()) "
    }
   },
   "types_to_exclude": [
    "module",
    "function",
    "builtin_function_or_method",
    "instance",
    "_Feature"
   ],
   "window_display": false
  }
 },
 "nbformat": 4,
 "nbformat_minor": 2
}
