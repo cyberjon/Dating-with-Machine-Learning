{
 "cells": [
  {
   "cell_type": "markdown",
   "metadata": {},
   "source": [
    "### build 2D CNN (modified pattern from https://keras.io/examples/cifar10_cnn)"
   ]
  },
  {
   "cell_type": "code",
   "execution_count": 1,
   "metadata": {},
   "outputs": [],
   "source": [
    "# import general dependencies\n",
    "from matplotlib import pyplot\n",
    "import numpy as np\n",
    "import os\n",
    "import pandas as pd"
   ]
  },
  {
   "cell_type": "code",
   "execution_count": 2,
   "metadata": {},
   "outputs": [
    {
     "name": "stderr",
     "output_type": "stream",
     "text": [
      "Using TensorFlow backend.\n"
     ]
    }
   ],
   "source": [
    "# import ML dependencies\n",
    "from __future__ import print_function\n",
    "from sklearn.model_selection import train_test_split\n",
    "import keras\n",
    "from keras.preprocessing.image import ImageDataGenerator\n",
    "from keras.models import Sequential\n",
    "from keras.layers import Dense, Dropout, Activation, Flatten\n",
    "from keras.layers import Conv2D, MaxPooling2D\n",
    "from tensorflow.keras.preprocessing import image"
   ]
  },
  {
   "cell_type": "code",
   "execution_count": 3,
   "metadata": {},
   "outputs": [],
   "source": [
    "# define model vars\n",
    "intBatchSize = 110\n",
    "intClassCount = 1\n",
    "intEpochCount = 5 # originally 100\n",
    "fDataAug = True\n",
    "intPredictionCount = 1\n",
    "strPath = '.'\n",
    "strModel = 'CIFAR10Style_doctordata_MyCity.h5'"
   ]
  },
  {
   "cell_type": "code",
   "execution_count": 4,
   "metadata": {},
   "outputs": [
    {
     "name": "stdout",
     "output_type": "stream",
     "text": [
      "AllieKat1070.00.png\n",
      "AllieKat1070.01.png\n",
      "amunyque71.00.png\n",
      "amunyque71.01.png\n",
      "amunyque71.02.png\n",
      "amunyque71.03.png\n",
      "amunyque71.04.png\n",
      "amunyque71.05.png\n",
      "antonia_men.00.png\n",
      "antonia_men.01.png\n",
      "antonia_men.02.png\n",
      "antonia_men.03.png\n",
      "antonia_men.04.png\n",
      "antonia_men.05.png\n",
      "BeePatient.00.png\n",
      "BeePatient.01.png\n",
      "BeePatient.02.png\n",
      "BeePatient.03.png\n",
      "BeePatient.04.png\n",
      "BeePatient.05.png\n",
      "candipie1989.00.png\n",
      "candipie1989.01.png\n",
      "candipie1989.02.png\n",
      "candipie1989.03.png\n",
      "candipie1989.04.png\n",
      "candipie1989.05.png\n",
      "candipie1989.06.png\n",
      "carmelreed.00.png\n",
      "carmelreed.01.png\n",
      "carmelreed.02.png\n",
      "carmelreed.03.png\n",
      "carmelreed.04.png\n",
      "carmelreed.05.png\n",
      "cherryandsandy.00.png\n",
      "chloe0219.00.png\n",
      "chloe0219.01.png\n",
      "chloe0219.02.png\n",
      "chloe0219.03.png\n",
      "chloe0219.04.png\n",
      "chloe0219.05.png\n",
      "chloe0219.06.png\n",
      "chloe0219.07.png\n",
      "consuelocast.00.png\n",
      "cristinabele.00.png\n",
      "cristinabele.01.png\n",
      "danigirl1234e.00.png\n",
      "danigirl1234e.01.png\n",
      "danigirl1234e.02.png\n",
      "danigirl1234e.03.png\n",
      "Erickadh2.00.png\n",
      "Erickadh2.01.png\n",
      "Erickadh2.02.png\n",
      "GeekyLonghorn.00.png\n",
      "GeekyLonghorn.01.png\n",
      "GeekyLonghorn.02.png\n",
      "GeekyLonghorn.03.png\n",
      "GeekyLonghorn.04.png\n",
      "GeekyLonghorn.05.png\n",
      "GeekyLonghorn.06.png\n",
      "heidiatx.00.png\n",
      "heidiatx.01.png\n",
      "heidiatx.02.png\n",
      "heidiatx.03.png\n",
      "heidiatx.04.png\n",
      "heidiatx.05.png\n",
      "Hpolvr71.00.png\n",
      "Hpolvr71.01.png\n",
      "Hpolvr71.02.png\n",
      "Hpolvr71.03.png\n",
      "Hpolvr71.04.png\n",
      "Hpolvr71.05.png\n",
      "Hpolvr71.06.png\n",
      "Hpolvr71.07.png\n",
      "jacklina1.00.png\n",
      "jacklina1.01.png\n",
      "jacklina1.02.png\n",
      "Jensta11.00.png\n",
      "Jensta11.01.png\n",
      "Jensta11.02.png\n",
      "Jensta11.03.png\n",
      "karyn1916.00.png\n",
      "karyn1916.01.png\n",
      "karyn1916.02.png\n",
      "karyn1916.03.png\n",
      "khendab.00.png\n",
      "khendab.01.png\n",
      "khendab.02.png\n",
      "khendab.03.png\n",
      "khendab.04.png\n",
      "khendab.05.png\n",
      "khendab.06.png\n",
      "ladylisau.00.png\n",
      "ladylisau.01.png\n",
      "ladylisau.02.png\n",
      "ladylisau.03.png\n",
      "Lashae42.00.png\n",
      "LearJetLover.00.png\n",
      "LearJetLover.01.png\n",
      "LearJetLover.02.png\n",
      "LearJetLover.03.png\n",
      "LikelyToLove.00.png\n",
      "LikelyToLove.01.png\n",
      "LikelyToLove.02.png\n",
      "luvspink.00.png\n",
      "maryannbella.00.png\n",
      "mmorgan17.00.png\n",
      "mmorgan17.01.png\n",
      "mmorgan17.02.png\n",
      "mmorgan17.03.png\n",
      "mmorgan17.04.png\n",
      "mmorgan17.05.png\n",
      "mrosebud1971.00.png\n",
      "NoooDramaJustFun.00.png\n",
      "NoooDramaJustFun.01.png\n",
      "NoooDramaJustFun.02.png\n",
      "NoooDramaJustFun.03.png\n",
      "NoooDramaJustFun.04.png\n",
      "NoooDramaJustFun.05.png\n",
      "NoooDramaJustFun.06.png\n",
      "NoooDramaJustFun.07.png\n",
      "Once_moreTime0998655.00.png\n",
      "peggyrm1.00.png\n",
      "peggyrm1.01.png\n",
      "peggyrm1.02.png\n",
      "peggyrm1.03.png\n",
      "peggyrm1.04.png\n",
      "peggyrm1.05.png\n",
      "peggyrm1.06.png\n",
      "peggyrm1.07.png\n",
      "pjracer.00.png\n",
      "pjracer.01.png\n",
      "pjracer.02.png\n",
      "pjracer.03.png\n",
      "pjracer.04.png\n",
      "pjracer.05.png\n",
      "pjracer.06.png\n",
      "pjracer.07.png\n",
      "RarePattern.00.png\n",
      "RarePattern.01.png\n",
      "RarePattern.02.png\n",
      "RarePattern.03.png\n",
      "RarePattern.04.png\n",
      "RarePattern.05.png\n",
      "RarePattern.06.png\n",
      "RarePattern.07.png\n",
      "RED78752.00.png\n",
      "RED78752.01.png\n",
      "RED78752.02.png\n",
      "RED78752.03.png\n",
      "RED78752.04.png\n",
      "RED78752.05.png\n",
      "RED78752.06.png\n",
      "RED78752.07.png\n",
      "riverdancer526.00.png\n",
      "riverdancer526.01.png\n",
      "riverdancer526.02.png\n",
      "riverdancer526.03.png\n",
      "riverdancer526.04.png\n",
      "riverdancer526.05.png\n",
      "riverdancer526.06.png\n",
      "riverdancer526.07.png\n",
      "robbier718.00.png\n",
      "robbier718.01.png\n",
      "robbier718.02.png\n",
      "robbier718.03.png\n",
      "robbier718.04.png\n",
      "robbier718.05.png\n",
      "robbier718.06.png\n",
      "RRTX2014.00.png\n",
      "RRTX2014.01.png\n",
      "Seekingpassionatekisses.00.png\n",
      "Seekingpassionatekisses.01.png\n",
      "Seekingpassionatekisses.02.png\n",
      "Seekingpassionatekisses.03.png\n",
      "Seekingpassionatekisses.04.png\n",
      "Seekingpassionatekisses.05.png\n",
      "Seekingpassionatekisses.06.png\n",
      "Seekingpassionatekisses.07.png\n",
      "Seekingpassionatekisses.08.png\n",
      "Seekingpassionatekisses.09.png\n",
      "Seekingpassionatekisses.10.png\n",
      "Seekingpassionatekisses.11.png\n",
      "Seekingpassionatekisses.12.png\n",
      "Seekingpassionatekisses.13.png\n",
      "Seekingpassionatekisses.14.png\n",
      "Seekingpassionatekisses.15.png\n",
      "sexythick001.00.png\n",
      "sexythick001.01.png\n",
      "sexythick001.02.png\n",
      "singlediva14.00.png\n",
      "singlediva14.01.png\n",
      "Susie1119.00.png\n",
      "Susie1119.01.png\n",
      "Susie1119.02.png\n",
      "Susie1119.03.png\n",
      "Susie1119.04.png\n",
      "Susie1119.05.png\n",
      "Susie1119.06.png\n",
      "Susie1119.07.png\n",
      "SWWEscape.00.png\n",
      "SWWEscape.01.png\n",
      "SWWEscape.02.png\n",
      "SWWEscape.03.png\n",
      "SWWEscape.04.png\n",
      "tamarafer1225.00.png\n",
      "terriann0131.00.png\n",
      "terriann0131.01.png\n",
      "terriann0131.02.png\n",
      "terriann0131.03.png\n",
      "terriann0131.04.png\n",
      "terriann0131.05.png\n",
      "terriann0131.06.png\n",
      "Texas49.00.png\n",
      "Texas49.01.png\n",
      "Texas49.02.png\n",
      "Texas49.03.png\n",
      "Texas49.04.png\n",
      "Texas49.05.png\n",
      "tonyasandy.00.png\n",
      "tonyasandy.01.png\n",
      "TxSexyRed.00.png\n",
      "TxSexyRed.01.png\n",
      "TxSexyRed.02.png\n",
      "TxSexyRed.03.png\n",
      "TxSexyRed.04.png\n",
      "ykceb08.00.png\n"
     ]
    },
    {
     "data": {
      "text/plain": [
       "(226, 110, 110, 3)"
      ]
     },
     "execution_count": 4,
     "metadata": {},
     "output_type": "execute_result"
    }
   ],
   "source": [
    "# create X data set\n",
    "strImgPath = '../ek_scrape/img/doctordata/MyCity'\n",
    "lstImg = []\n",
    "for root, dirs, lstFile in os.walk(strImgPath):\n",
    "    lstFile.sort(key=str.lower)\n",
    "    for strFile in lstFile:\n",
    "        if strFile[-4:] == '.png':\n",
    "            print(strFile)\n",
    "            img = pyplot.imread(strImgPath + '/' + strFile, format='jpg')\n",
    "            arrImg = image.img_to_array(img)\n",
    "            lstImg.append(arrImg)\n",
    "arrX = np.array(lstImg)\n",
    "arrX.shape"
   ]
  },
  {
   "cell_type": "code",
   "execution_count": 5,
   "metadata": {},
   "outputs": [
    {
     "data": {
      "text/plain": [
       "(226,)"
      ]
     },
     "execution_count": 5,
     "metadata": {},
     "output_type": "execute_result"
    }
   ],
   "source": [
    "# create Y data set\n",
    "dfY = pd.read_csv('doctordata_MyCity.csv')\n",
    "arrY = np.array(dfY['interested'])\n",
    "arrY.shape\n",
    "arrY.ndim\n",
    "arrY.shape"
   ]
  },
  {
   "cell_type": "code",
   "execution_count": 8,
   "metadata": {},
   "outputs": [
    {
     "name": "stderr",
     "output_type": "stream",
     "text": [
      "C:\\Anaconda3\\lib\\site-packages\\sklearn\\model_selection\\_split.py:2179: FutureWarning: From version 0.21, test_size will always complement train_size unless both are specified.\n",
      "  FutureWarning)\n"
     ]
    },
    {
     "ename": "ValueError",
     "evalue": "The test_size = 1 should be greater or equal to the number of classes = 2",
     "output_type": "error",
     "traceback": [
      "\u001b[1;31m---------------------------------------------------------------------------\u001b[0m",
      "\u001b[1;31mValueError\u001b[0m                                Traceback (most recent call last)",
      "\u001b[1;32m<ipython-input-8-865e9b095db3>\u001b[0m in \u001b[0;36m<module>\u001b[1;34m\u001b[0m\n\u001b[0;32m      1\u001b[0m \u001b[1;31m# create Train and Test datasets\u001b[0m\u001b[1;33m\u001b[0m\u001b[1;33m\u001b[0m\u001b[1;33m\u001b[0m\u001b[0m\n\u001b[1;32m----> 2\u001b[1;33m \u001b[0marrTrainX\u001b[0m\u001b[1;33m,\u001b[0m \u001b[0marrTestX\u001b[0m\u001b[1;33m,\u001b[0m \u001b[0marrTrainY\u001b[0m\u001b[1;33m,\u001b[0m \u001b[0marrTestY\u001b[0m \u001b[1;33m=\u001b[0m \u001b[0mtrain_test_split\u001b[0m\u001b[1;33m(\u001b[0m\u001b[0marrX\u001b[0m\u001b[1;33m,\u001b[0m \u001b[0marrY\u001b[0m\u001b[1;33m,\u001b[0m \u001b[0mrandom_state\u001b[0m\u001b[1;33m=\u001b[0m\u001b[1;36m17\u001b[0m\u001b[1;33m,\u001b[0m \u001b[0mstratify\u001b[0m\u001b[1;33m=\u001b[0m\u001b[0marrY\u001b[0m\u001b[1;33m,\u001b[0m \u001b[0mtrain_size\u001b[0m\u001b[1;33m=\u001b[0m\u001b[1;36m225\u001b[0m\u001b[1;33m)\u001b[0m\u001b[1;33m\u001b[0m\u001b[1;33m\u001b[0m\u001b[0m\n\u001b[0m",
      "\u001b[1;32mC:\\Anaconda3\\lib\\site-packages\\sklearn\\model_selection\\_split.py\u001b[0m in \u001b[0;36mtrain_test_split\u001b[1;34m(*arrays, **options)\u001b[0m\n\u001b[0;32m   2207\u001b[0m                      random_state=random_state)\n\u001b[0;32m   2208\u001b[0m \u001b[1;33m\u001b[0m\u001b[0m\n\u001b[1;32m-> 2209\u001b[1;33m         \u001b[0mtrain\u001b[0m\u001b[1;33m,\u001b[0m \u001b[0mtest\u001b[0m \u001b[1;33m=\u001b[0m \u001b[0mnext\u001b[0m\u001b[1;33m(\u001b[0m\u001b[0mcv\u001b[0m\u001b[1;33m.\u001b[0m\u001b[0msplit\u001b[0m\u001b[1;33m(\u001b[0m\u001b[0mX\u001b[0m\u001b[1;33m=\u001b[0m\u001b[0marrays\u001b[0m\u001b[1;33m[\u001b[0m\u001b[1;36m0\u001b[0m\u001b[1;33m]\u001b[0m\u001b[1;33m,\u001b[0m \u001b[0my\u001b[0m\u001b[1;33m=\u001b[0m\u001b[0mstratify\u001b[0m\u001b[1;33m)\u001b[0m\u001b[1;33m)\u001b[0m\u001b[1;33m\u001b[0m\u001b[1;33m\u001b[0m\u001b[0m\n\u001b[0m\u001b[0;32m   2210\u001b[0m \u001b[1;33m\u001b[0m\u001b[0m\n\u001b[0;32m   2211\u001b[0m     return list(chain.from_iterable((safe_indexing(a, train),\n",
      "\u001b[1;32mC:\\Anaconda3\\lib\\site-packages\\sklearn\\model_selection\\_split.py\u001b[0m in \u001b[0;36msplit\u001b[1;34m(self, X, y, groups)\u001b[0m\n\u001b[0;32m   1313\u001b[0m         \"\"\"\n\u001b[0;32m   1314\u001b[0m         \u001b[0mX\u001b[0m\u001b[1;33m,\u001b[0m \u001b[0my\u001b[0m\u001b[1;33m,\u001b[0m \u001b[0mgroups\u001b[0m \u001b[1;33m=\u001b[0m \u001b[0mindexable\u001b[0m\u001b[1;33m(\u001b[0m\u001b[0mX\u001b[0m\u001b[1;33m,\u001b[0m \u001b[0my\u001b[0m\u001b[1;33m,\u001b[0m \u001b[0mgroups\u001b[0m\u001b[1;33m)\u001b[0m\u001b[1;33m\u001b[0m\u001b[1;33m\u001b[0m\u001b[0m\n\u001b[1;32m-> 1315\u001b[1;33m         \u001b[1;32mfor\u001b[0m \u001b[0mtrain\u001b[0m\u001b[1;33m,\u001b[0m \u001b[0mtest\u001b[0m \u001b[1;32min\u001b[0m \u001b[0mself\u001b[0m\u001b[1;33m.\u001b[0m\u001b[0m_iter_indices\u001b[0m\u001b[1;33m(\u001b[0m\u001b[0mX\u001b[0m\u001b[1;33m,\u001b[0m \u001b[0my\u001b[0m\u001b[1;33m,\u001b[0m \u001b[0mgroups\u001b[0m\u001b[1;33m)\u001b[0m\u001b[1;33m:\u001b[0m\u001b[1;33m\u001b[0m\u001b[1;33m\u001b[0m\u001b[0m\n\u001b[0m\u001b[0;32m   1316\u001b[0m             \u001b[1;32myield\u001b[0m \u001b[0mtrain\u001b[0m\u001b[1;33m,\u001b[0m \u001b[0mtest\u001b[0m\u001b[1;33m\u001b[0m\u001b[1;33m\u001b[0m\u001b[0m\n\u001b[0;32m   1317\u001b[0m \u001b[1;33m\u001b[0m\u001b[0m\n",
      "\u001b[1;32mC:\\Anaconda3\\lib\\site-packages\\sklearn\\model_selection\\_split.py\u001b[0m in \u001b[0;36m_iter_indices\u001b[1;34m(self, X, y, groups)\u001b[0m\n\u001b[0;32m   1705\u001b[0m             raise ValueError('The test_size = %d should be greater or '\n\u001b[0;32m   1706\u001b[0m                              \u001b[1;34m'equal to the number of classes = %d'\u001b[0m \u001b[1;33m%\u001b[0m\u001b[1;33m\u001b[0m\u001b[1;33m\u001b[0m\u001b[0m\n\u001b[1;32m-> 1707\u001b[1;33m                              (n_test, n_classes))\n\u001b[0m\u001b[0;32m   1708\u001b[0m \u001b[1;33m\u001b[0m\u001b[0m\n\u001b[0;32m   1709\u001b[0m         \u001b[1;31m# Find the sorted list of instances for each class:\u001b[0m\u001b[1;33m\u001b[0m\u001b[1;33m\u001b[0m\u001b[1;33m\u001b[0m\u001b[0m\n",
      "\u001b[1;31mValueError\u001b[0m: The test_size = 1 should be greater or equal to the number of classes = 2"
     ]
    }
   ],
   "source": [
    "# create Train and Test datasets\n",
    "arrTrainX, arrTestX, arrTrainY, arrTestY = train_test_split(arrX, arrY, random_state=17, stratify=arrY, train_size=225)"
   ]
  },
  {
   "cell_type": "code",
   "execution_count": null,
   "metadata": {},
   "outputs": [],
   "source": [
    "# create model\n",
    "# IMPORTANT: for a single yes/no decision, activation is sigmoid, not softmax\n",
    "# see https://www.dlology.com/blog/how-to-choose-last-layer-activation-and-loss-function/\n",
    "model = Sequential()\n",
    "model.add(Conv2D(32, (3, 3), padding='same',\n",
    "                 input_shape=arrTrainX.shape[1:]))\n",
    "model.add(Activation('relu'))\n",
    "model.add(Conv2D(32, (3, 3)))\n",
    "model.add(Activation('relu'))\n",
    "model.add(MaxPooling2D(pool_size=(2, 2)))\n",
    "model.add(Dropout(0.25))\n",
    "\n",
    "model.add(Conv2D(64, (3, 3), padding='same'))\n",
    "model.add(Activation('relu'))\n",
    "model.add(Conv2D(64, (3, 3)))\n",
    "model.add(Activation('relu'))\n",
    "model.add(MaxPooling2D(pool_size=(2, 2)))\n",
    "model.add(Dropout(0.25))\n",
    "\n",
    "model.add(Flatten())\n",
    "model.add(Dense(512))\n",
    "model.add(Activation('relu'))\n",
    "model.add(Dropout(0.5))\n",
    "model.add(Dense(intClassCount))\n",
    "model.add(Activation('sigmoid'))"
   ]
  },
  {
   "cell_type": "code",
   "execution_count": null,
   "metadata": {},
   "outputs": [],
   "source": [
    "# initiate RMSprop optimizer\n",
    "opt = keras.optimizers.RMSprop(learning_rate=0.0001, decay=1e-6)"
   ]
  },
  {
   "cell_type": "code",
   "execution_count": null,
   "metadata": {},
   "outputs": [],
   "source": [
    "# train the model using RMSprop\n",
    "# IMPORTANT: for a single yes/no decision, loss is binary_crossentropy, not categorical_crossentropy\n",
    "model.compile(loss='binary_crossentropy',\n",
    "              optimizer=opt,\n",
    "              metrics=['accuracy'])"
   ]
  },
  {
   "cell_type": "code",
   "execution_count": null,
   "metadata": {},
   "outputs": [],
   "source": [
    "# rescale X's Train and Test datasets\n",
    "arrTrainX = arrTrainX.astype('float32')\n",
    "arrTestX = arrTestX.astype('float32')\n",
    "arrTrainX /= 255\n",
    "arrTestX /= 255"
   ]
  },
  {
   "cell_type": "code",
   "execution_count": null,
   "metadata": {},
   "outputs": [],
   "source": [
    "if not fDataAug:\n",
    "    print('Not using data augmentation.')\n",
    "    model.fit(arrTrainX, arrTrainY,\n",
    "              batch_size=intBatchSize,\n",
    "              epochs=intEpochCount,\n",
    "              validation_data=(arrTestX, arrTestY),\n",
    "              shuffle=True)\n",
    "else:\n",
    "    print('Using real-time data augmentation.')\n",
    "    # This will do preprocessing and realtime data augmentation:\n",
    "    datagen = ImageDataGenerator(\n",
    "        featurewise_center=False,  # set input mean to 0 over the dataset\n",
    "        samplewise_center=False,  # set each sample mean to 0\n",
    "        featurewise_std_normalization=False,  # divide inputs by std of the dataset\n",
    "        samplewise_std_normalization=False,  # divide each input by its std\n",
    "        zca_whitening=False,  # apply ZCA whitening\n",
    "        zca_epsilon=1e-06,  # epsilon for ZCA whitening\n",
    "        rotation_range=0,  # randomly rotate images in the range (degrees, 0 to 180)\n",
    "        # randomly shift images horizontally (fraction of total width)\n",
    "        width_shift_range=0.1,\n",
    "        # randomly shift images vertically (fraction of total height)\n",
    "        height_shift_range=0.1,\n",
    "        shear_range=0.,  # set range for random shear\n",
    "        zoom_range=0.,  # set range for random zoom\n",
    "        channel_shift_range=0.,  # set range for random channel shifts\n",
    "        # set mode for filling points outside the input boundaries\n",
    "        fill_mode='nearest',\n",
    "        cval=0.,  # value used for fill_mode = \"constant\"\n",
    "        horizontal_flip=True,  # randomly flip images\n",
    "        vertical_flip=False,  # randomly flip images\n",
    "        # set rescaling factor (applied before any other transformation)\n",
    "        rescale=None,\n",
    "        # set function that will be applied on each input\n",
    "        preprocessing_function=None,\n",
    "        # image data format, either \"channels_first\" or \"channels_last\"\n",
    "        data_format=None,\n",
    "        # fraction of images reserved for validation (strictly between 0 and 1)\n",
    "        validation_split=0.0)"
   ]
  },
  {
   "cell_type": "code",
   "execution_count": null,
   "metadata": {},
   "outputs": [],
   "source": [
    "# compute quantities required for feature-wise normalization\n",
    "# (std, mean, and principal components if ZCA whitening is applied).\n",
    "datagen.fit(arrTrainX)"
   ]
  },
  {
   "cell_type": "code",
   "execution_count": null,
   "metadata": {},
   "outputs": [],
   "source": [
    "# Fit the model on the batches generated by datagen.flow().\n",
    "model.fit_generator(datagen.flow(arrTrainX, arrTrainY,\n",
    "                                 batch_size=intBatchSize),\n",
    "                    epochs=intEpochCount,\n",
    "                    validation_data=(arrTestX, arrTestY),\n",
    "                    workers=4)"
   ]
  },
  {
   "cell_type": "code",
   "execution_count": null,
   "metadata": {},
   "outputs": [],
   "source": [
    "# save model and weights\n",
    "if not os.path.isdir(strPath):\n",
    "    os.makedirs(strPath)\n",
    "strModelPath = os.path.join(strPath, strModel)\n",
    "model.save(strModelPath)\n",
    "print('Saved trained model at %s ' % strModelPath)"
   ]
  },
  {
   "cell_type": "code",
   "execution_count": null,
   "metadata": {},
   "outputs": [],
   "source": [
    "# score trained model\n",
    "arrScores = model.evaluate(arrTestX, arrTestY, verbose=1)\n",
    "arrPredict = model.predict(arrTestX)\n",
    "print('Test loss:', arrScores[0])\n",
    "print('Test accuracy:', arrScores[1])"
   ]
  },
  {
   "cell_type": "code",
   "execution_count": null,
   "metadata": {},
   "outputs": [],
   "source": [
    "arrPredict"
   ]
  },
  {
   "cell_type": "code",
   "execution_count": null,
   "metadata": {},
   "outputs": [],
   "source": [
    "for foo in range(0, arrTestY.size):\n",
    "    print(f'{foo}: {arrTestY[foo]}')\n",
    "    image.array_to_img(arrTestX[foo])"
   ]
  },
  {
   "cell_type": "code",
   "execution_count": null,
   "metadata": {},
   "outputs": [],
   "source": [
    "image.array_to_img(arrTestX[43])"
   ]
  },
  {
   "cell_type": "code",
   "execution_count": null,
   "metadata": {},
   "outputs": [],
   "source": [
    "for foo in range(0, arrY.size-1):\n",
    "    print(f'{foo}: {arrY[foo]}')"
   ]
  },
  {
   "cell_type": "code",
   "execution_count": null,
   "metadata": {},
   "outputs": [],
   "source": [
    "image.array_to_img(arrX[189])"
   ]
  },
  {
   "cell_type": "code",
   "execution_count": null,
   "metadata": {},
   "outputs": [],
   "source": [
    "model.predict_classes(arrTrainX)"
   ]
  }
 ],
 "metadata": {
  "anaconda-cloud": {},
  "kernelspec": {
   "display_name": "Python 3",
   "language": "python",
   "name": "python3"
  },
  "language_info": {
   "codemirror_mode": {
    "name": "ipython",
    "version": 3
   },
   "file_extension": ".py",
   "mimetype": "text/x-python",
   "name": "python",
   "nbconvert_exporter": "python",
   "pygments_lexer": "ipython3",
   "version": "3.7.3"
  },
  "varInspector": {
   "cols": {
    "lenName": 16,
    "lenType": 16,
    "lenVar": 40
   },
   "kernels_config": {
    "python": {
     "delete_cmd_postfix": "",
     "delete_cmd_prefix": "del ",
     "library": "var_list.py",
     "varRefreshCmd": "print(var_dic_list())"
    },
    "r": {
     "delete_cmd_postfix": ") ",
     "delete_cmd_prefix": "rm(",
     "library": "var_list.r",
     "varRefreshCmd": "cat(var_dic_list()) "
    }
   },
   "types_to_exclude": [
    "module",
    "function",
    "builtin_function_or_method",
    "instance",
    "_Feature"
   ],
   "window_display": false
  }
 },
 "nbformat": 4,
 "nbformat_minor": 2
}
